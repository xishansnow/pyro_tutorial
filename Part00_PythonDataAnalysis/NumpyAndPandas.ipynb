{
 "cells": [
  {
   "cell_type": "code",
   "execution_count": 1,
   "id": "bc79197b-3a0e-4a2d-9750-5ef4c422bf08",
   "metadata": {},
   "outputs": [
    {
     "name": "stdout",
     "output_type": "stream",
     "text": [
      "[ 2  4  5  8 10]\n"
     ]
    }
   ],
   "source": [
    "import numpy as np\n",
    "\n",
    "a = np.array([2,4,5,8,10])\n",
    "print(a)"
   ]
  },
  {
   "cell_type": "code",
   "execution_count": 2,
   "id": "7139ee2d-ae89-4661-b2c6-6fc3167f71fa",
   "metadata": {},
   "outputs": [
    {
     "name": "stdout",
     "output_type": "stream",
     "text": [
      "[ 1  2  3  4  5  6  7  8  9 10]\n"
     ]
    }
   ],
   "source": [
    "b = np.arange(1,11)\n",
    "print(b)"
   ]
  },
  {
   "cell_type": "code",
   "execution_count": 3,
   "id": "b87943e5-b108-4d34-bfa3-821b3095475d",
   "metadata": {},
   "outputs": [
    {
     "name": "stdout",
     "output_type": "stream",
     "text": [
      "[[0. 0. 0.]\n",
      " [0. 0. 0.]\n",
      " [0. 0. 0.]]\n"
     ]
    }
   ],
   "source": [
    "p = np.zeros((3,3))\n",
    "print(p)"
   ]
  },
  {
   "cell_type": "code",
   "execution_count": 4,
   "id": "12ecb350-42d9-4664-9972-8398274c5412",
   "metadata": {},
   "outputs": [
    {
     "name": "stdout",
     "output_type": "stream",
     "text": [
      "[[1. 0. 0. 0.]\n",
      " [0. 1. 0. 0.]\n",
      " [0. 0. 1. 0.]\n",
      " [0. 0. 0. 1.]]\n"
     ]
    }
   ],
   "source": [
    "s = np.eye(4)\n",
    "print(s)"
   ]
  },
  {
   "cell_type": "code",
   "execution_count": 5,
   "id": "2a3a8892-4d6d-435b-b799-d35eda83185a",
   "metadata": {},
   "outputs": [
    {
     "name": "stdout",
     "output_type": "stream",
     "text": [
      "[[1. 1. 1.]\n",
      " [1. 1. 1.]\n",
      " [1. 1. 1.]]\n"
     ]
    }
   ],
   "source": [
    "q = np.ones((3,3))\n",
    "print(q)"
   ]
  },
  {
   "cell_type": "code",
   "execution_count": 6,
   "id": "b043f413-ecd5-41ef-a219-af00c0ec84bb",
   "metadata": {},
   "outputs": [
    {
     "name": "stdout",
     "output_type": "stream",
     "text": [
      "[[4 4]\n",
      " [4 4]]\n"
     ]
    }
   ],
   "source": [
    "r = np.full((2,2),4)\n",
    "print(r)"
   ]
  },
  {
   "cell_type": "code",
   "execution_count": 7,
   "id": "d4ed7cde-4714-476e-b6a6-1f95c23178bf",
   "metadata": {},
   "outputs": [
    {
     "name": "stdout",
     "output_type": "stream",
     "text": [
      "[[0.79793338]\n",
      " [0.32868768]\n",
      " [0.1786074 ]]\n"
     ]
    }
   ],
   "source": [
    "s = np.random.random((3,1))\n",
    "print(s)"
   ]
  },
  {
   "cell_type": "code",
   "execution_count": 8,
   "id": "4e343420-680e-4591-8b1b-2ff696a78292",
   "metadata": {},
   "outputs": [
    {
     "name": "stdout",
     "output_type": "stream",
     "text": [
      "[[0.47442594 0.13410858 0.41297695]\n",
      " [0.62696338 0.15095737 0.50182648]\n",
      " [0.68105161 0.36614293 0.50043521]]\n"
     ]
    }
   ],
   "source": [
    "t=np.random.random((3,3,))\n",
    "print(t)"
   ]
  },
  {
   "cell_type": "code",
   "execution_count": 9,
   "id": "c410c6dd-861f-4cf4-bee7-d9d99502dd1d",
   "metadata": {},
   "outputs": [
    {
     "name": "stdout",
     "output_type": "stream",
     "text": [
      "<class 'numpy.ndarray'> ... (5,) ... int64\n",
      "<class 'numpy.ndarray'> ... (10,) ... int64\n",
      "<class 'numpy.ndarray'> ... (3, 3) ... float64\n",
      "<class 'numpy.ndarray'> ... (3, 3) ... float64\n",
      "<class 'numpy.ndarray'> ... (2, 2) ... int64\n",
      "<class 'numpy.ndarray'> ... (3, 1) ... float64\n",
      "<class 'numpy.ndarray'> ... (3, 3) ... float64\n"
     ]
    }
   ],
   "source": [
    "print(type(a),\"...\",a.shape,\"...\",a.dtype)\n",
    "print(type(b),\"...\",b.shape,\"...\",b.dtype)\n",
    "print(type(p),\"...\",p.shape,\"...\",p.dtype)\n",
    "print(type(q),\"...\",q.shape,\"...\",q.dtype)\n",
    "print(type(r),\"...\",r.shape,\"...\",r.dtype)\n",
    "print(type(s),\"...\",s.shape,\"...\",s.dtype)\n",
    "print(type(t),\"...\",t.shape,\"...\",t.dtype)"
   ]
  },
  {
   "cell_type": "code",
   "execution_count": 10,
   "id": "79f44145-a6e7-494e-bcf0-0a750ed60881",
   "metadata": {},
   "outputs": [
    {
     "name": "stdout",
     "output_type": "stream",
     "text": [
      "[ 2  4  6  8 10]\n"
     ]
    }
   ],
   "source": [
    "z = np.array([2,4,6,8,10])\n",
    "print(z)"
   ]
  },
  {
   "cell_type": "code",
   "execution_count": 11,
   "id": "b8093033-03c2-4c01-b5f1-cbe9d321545b",
   "metadata": {},
   "outputs": [
    {
     "name": "stdout",
     "output_type": "stream",
     "text": [
      "<class 'numpy.ndarray'> ... (5,) ... int64\n"
     ]
    }
   ],
   "source": [
    "print(type(z),\"...\",z.shape,\"...\",z.dtype)"
   ]
  },
  {
   "cell_type": "code",
   "execution_count": 12,
   "id": "9a1b198c-e05e-4ed0-addb-d283203fc1f3",
   "metadata": {},
   "outputs": [
    {
     "name": "stdout",
     "output_type": "stream",
     "text": [
      "<class 'numpy.ndarray'> ... (9,) ... float64\n"
     ]
    }
   ],
   "source": [
    "flat_t =  t.flatten()\n",
    "print(type(flat_t),\"...\",flat_t.shape,\"...\",flat_t.dtype)"
   ]
  },
  {
   "cell_type": "code",
   "execution_count": 13,
   "id": "e9a971b2-1a8b-421f-ba1a-3dcb2844a8c1",
   "metadata": {},
   "outputs": [
    {
     "name": "stdout",
     "output_type": "stream",
     "text": [
      "<class 'numpy.ndarray'> ... (9,) ... float64\n"
     ]
    }
   ],
   "source": [
    "ravel_t = t.ravel()\n",
    "print(type(ravel_t),\"...\",ravel_t.shape,\"...\",ravel_t.dtype)"
   ]
  },
  {
   "cell_type": "code",
   "execution_count": 14,
   "id": "13adc8ec-8f5c-427f-9c9f-0d08253b1e04",
   "metadata": {},
   "outputs": [
    {
     "name": "stdout",
     "output_type": "stream",
     "text": [
      "[[0. 0. 0.]\n",
      " [0. 0. 0.]\n",
      " [0. 0. 0.]]\n",
      "[[1. 1. 1.]\n",
      " [1. 1. 1.]\n",
      " [1. 1. 1.]]\n"
     ]
    }
   ],
   "source": [
    "print(p)\n",
    "print(q)"
   ]
  },
  {
   "cell_type": "code",
   "execution_count": 16,
   "id": "97480476-d7de-4985-8233-6b404175c665",
   "metadata": {},
   "outputs": [
    {
     "name": "stdout",
     "output_type": "stream",
     "text": [
      "[[0. 0. 0. 1. 1. 1.]\n",
      " [0. 0. 0. 1. 1. 1.]\n",
      " [0. 0. 0. 1. 1. 1.]]\n"
     ]
    }
   ],
   "source": [
    "hpq = np.hstack((p,q))\n",
    "print(hpq)"
   ]
  },
  {
   "cell_type": "code",
   "execution_count": 18,
   "id": "f2f4ef23-20a8-4156-9979-f5e682b22777",
   "metadata": {},
   "outputs": [
    {
     "name": "stdout",
     "output_type": "stream",
     "text": [
      "[[0.         0.         0.         0.79793338]\n",
      " [0.         0.         0.         0.32868768]\n",
      " [0.         0.         0.         0.1786074 ]]\n"
     ]
    }
   ],
   "source": [
    "hpq = np.hstack((p,s))\n",
    "print(hpq)"
   ]
  },
  {
   "cell_type": "code",
   "execution_count": 19,
   "id": "4926920b-fcd3-4cdd-b02e-f67872aa767a",
   "metadata": {},
   "outputs": [
    {
     "name": "stdout",
     "output_type": "stream",
     "text": [
      "[[0.         0.         0.         0.79793338]\n",
      " [0.         0.         0.         0.32868768]\n",
      " [0.         0.         0.         0.1786074 ]]\n"
     ]
    }
   ],
   "source": [
    "hpq = np.concatenate((p,s),axis=1)\n",
    "print(hpq)"
   ]
  },
  {
   "cell_type": "code",
   "execution_count": 24,
   "id": "157dcd90-de75-4523-b0c4-975ca9aa3996",
   "metadata": {},
   "outputs": [
    {
     "name": "stdout",
     "output_type": "stream",
     "text": [
      "[[0.         0.         0.        ]\n",
      " [0.         0.         0.        ]\n",
      " [0.         0.         0.        ]\n",
      " [0.79793338 0.32868768 0.1786074 ]]\n"
     ]
    }
   ],
   "source": [
    "hpq = np.vstack((p,s.transpose()))\n",
    "print(hpq)"
   ]
  },
  {
   "cell_type": "code",
   "execution_count": 26,
   "id": "8673fa97-3bfe-469b-9231-a3a7a49b53f4",
   "metadata": {},
   "outputs": [
    {
     "name": "stdout",
     "output_type": "stream",
     "text": [
      "[[0.         0.         0.        ]\n",
      " [0.         0.         0.        ]\n",
      " [0.         0.         0.        ]\n",
      " [0.79793338 0.32868768 0.1786074 ]]\n"
     ]
    }
   ],
   "source": [
    "hpq = np.concatenate((p,s.transpose()),axis=0)\n",
    "print(hpq)"
   ]
  },
  {
   "cell_type": "code",
   "execution_count": 28,
   "id": "c95faa12-98bd-47af-b9d8-4d9c38503130",
   "metadata": {},
   "outputs": [
    {
     "name": "stdout",
     "output_type": "stream",
     "text": [
      "(4, 3)\n"
     ]
    }
   ],
   "source": [
    "print(hpq.shape)\n"
   ]
  },
  {
   "cell_type": "code",
   "execution_count": 29,
   "id": "443b96ac-e8bb-4f50-9554-50fda938dda5",
   "metadata": {},
   "outputs": [
    {
     "name": "stdout",
     "output_type": "stream",
     "text": [
      "[[[0. 1.]\n",
      "  [0. 1.]\n",
      "  [0. 1.]]\n",
      "\n",
      " [[0. 1.]\n",
      "  [0. 1.]\n",
      "  [0. 1.]]\n",
      "\n",
      " [[0. 1.]\n",
      "  [0. 1.]\n",
      "  [0. 1.]]]\n"
     ]
    }
   ],
   "source": [
    "hpq = np.dstack((p,q))\n",
    "print(hpq)"
   ]
  },
  {
   "cell_type": "code",
   "execution_count": 30,
   "id": "4e520413-6e0b-4100-a1ca-724069fe0efd",
   "metadata": {},
   "outputs": [
    {
     "name": "stdout",
     "output_type": "stream",
     "text": [
      "(3, 3, 2)\n"
     ]
    }
   ],
   "source": [
    "print(hpq.shape)"
   ]
  },
  {
   "cell_type": "code",
   "execution_count": 31,
   "id": "f3a956d9-6d57-4dfa-b337-8302f00b60cb",
   "metadata": {},
   "outputs": [
    {
     "name": "stdout",
     "output_type": "stream",
     "text": [
      "[[[0.0, 1.0], [0.0, 1.0], [0.0, 1.0]], [[0.0, 1.0], [0.0, 1.0], [0.0, 1.0]], [[0.0, 1.0], [0.0, 1.0], [0.0, 1.0]]]\n"
     ]
    }
   ],
   "source": [
    "print(hpq.tolist())"
   ]
  },
  {
   "cell_type": "code",
   "execution_count": null,
   "id": "8ad5b5df-a82d-4e63-861c-3b3dfcbc5270",
   "metadata": {},
   "outputs": [],
   "source": []
  }
 ],
 "metadata": {
  "kernelspec": {
   "display_name": "Python 3 (ipykernel)",
   "language": "python",
   "name": "python3"
  },
  "language_info": {
   "codemirror_mode": {
    "name": "ipython",
    "version": 3
   },
   "file_extension": ".py",
   "mimetype": "text/x-python",
   "name": "python",
   "nbconvert_exporter": "python",
   "pygments_lexer": "ipython3",
   "version": "3.9.7"
  }
 },
 "nbformat": 4,
 "nbformat_minor": 5
}
