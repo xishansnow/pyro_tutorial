{
 "cells": [
  {
   "cell_type": "code",
   "execution_count": 2,
   "id": "bc79197b-3a0e-4a2d-9750-5ef4c422bf08",
   "metadata": {},
   "outputs": [
    {
     "name": "stdout",
     "output_type": "stream",
     "text": [
      "[ 2  4  5  8 10]\n"
     ]
    }
   ],
   "source": [
    "import numpy as np\n",
    "\n",
    "a = np.array([2,4,5,8,10])\n",
    "print(a)"
   ]
  },
  {
   "cell_type": "code",
   "execution_count": 13,
   "id": "7139ee2d-ae89-4661-b2c6-6fc3167f71fa",
   "metadata": {},
   "outputs": [
    {
     "name": "stdout",
     "output_type": "stream",
     "text": [
      "[ 1  2  3  4  5  6  7  8  9 10]\n"
     ]
    }
   ],
   "source": [
    "b = np.arange(1,11)\n",
    "print(b)"
   ]
  },
  {
   "cell_type": "code",
   "execution_count": 6,
   "id": "b87943e5-b108-4d34-bfa3-821b3095475d",
   "metadata": {},
   "outputs": [
    {
     "name": "stdout",
     "output_type": "stream",
     "text": [
      "[[0. 0. 0.]\n",
      " [0. 0. 0.]\n",
      " [0. 0. 0.]]\n"
     ]
    }
   ],
   "source": [
    "p = np.zeros((3,3))\n",
    "print(p)"
   ]
  },
  {
   "cell_type": "code",
   "execution_count": 7,
   "id": "12ecb350-42d9-4664-9972-8398274c5412",
   "metadata": {},
   "outputs": [
    {
     "name": "stdout",
     "output_type": "stream",
     "text": [
      "[[1. 0. 0. 0.]\n",
      " [0. 1. 0. 0.]\n",
      " [0. 0. 1. 0.]\n",
      " [0. 0. 0. 1.]]\n"
     ]
    }
   ],
   "source": [
    "s = np.eye(4)\n",
    "print(s)"
   ]
  },
  {
   "cell_type": "code",
   "execution_count": 8,
   "id": "2a3a8892-4d6d-435b-b799-d35eda83185a",
   "metadata": {},
   "outputs": [
    {
     "name": "stdout",
     "output_type": "stream",
     "text": [
      "[[1. 1. 1.]\n",
      " [1. 1. 1.]\n",
      " [1. 1. 1.]]\n"
     ]
    }
   ],
   "source": [
    "q = np.ones((3,3))\n",
    "print(q)"
   ]
  },
  {
   "cell_type": "code",
   "execution_count": 9,
   "id": "b043f413-ecd5-41ef-a219-af00c0ec84bb",
   "metadata": {},
   "outputs": [
    {
     "name": "stdout",
     "output_type": "stream",
     "text": [
      "[[4 4]\n",
      " [4 4]]\n"
     ]
    }
   ],
   "source": [
    "r = np.full((2,2),4)\n",
    "print(r)"
   ]
  },
  {
   "cell_type": "code",
   "execution_count": 23,
   "id": "d4ed7cde-4714-476e-b6a6-1f95c23178bf",
   "metadata": {},
   "outputs": [
    {
     "name": "stdout",
     "output_type": "stream",
     "text": [
      "<class 'numpy.ndarray'> ... (3, 1) ... float64\n",
      "[[0.06082439]\n",
      " [0.49617287]\n",
      " [0.21782665]]\n"
     ]
    }
   ],
   "source": [
    "s = np.random.random((3,1))\n",
    "print(s)"
   ]
  },
  {
   "cell_type": "code",
   "execution_count": 26,
   "id": "4e343420-680e-4591-8b1b-2ff696a78292",
   "metadata": {},
   "outputs": [
    {
     "name": "stdout",
     "output_type": "stream",
     "text": [
      "[[0.35821181 0.78538242 0.21642287]\n",
      " [0.33883356 0.40181624 0.28324827]\n",
      " [0.00896935 0.06278979 0.12212002]]\n"
     ]
    }
   ],
   "source": [
    "t=np.random.random((3,3,))\n",
    "print(t)"
   ]
  },
  {
   "cell_type": "code",
   "execution_count": 27,
   "id": "c410c6dd-861f-4cf4-bee7-d9d99502dd1d",
   "metadata": {},
   "outputs": [
    {
     "name": "stdout",
     "output_type": "stream",
     "text": [
      "<class 'numpy.ndarray'> ... (10,) ... int64\n",
      "<class 'numpy.ndarray'> ... (10,) ... int64\n",
      "<class 'numpy.ndarray'> ... (3, 3) ... float64\n",
      "<class 'numpy.ndarray'> ... (3, 3) ... float64\n",
      "<class 'numpy.ndarray'> ... (2, 2) ... int64\n",
      "<class 'numpy.ndarray'> ... (3, 3) ... float64\n"
     ]
    }
   ],
   "source": [
    "print(type(a),\"...\",a.shape,\"...\",a.dtype)\n",
    "print(type(b),\"...\",b.shape,\"...\",b.dtype)\n",
    "print(type(p),\"...\",p.shape,\"...\",p.dtype)\n",
    "print(type(q),\"...\",q.shape,\"...\",q.dtype)\n",
    "print(type(r),\"...\",r.shape,\"...\",r.dtype)\n",
    "print(type(s),\"...\",s.shape,\"...\",s.dtype)\n",
    "print(type(t),\"...\",t.shape,\"...\",t.dtype)"
   ]
  },
  {
   "cell_type": "code",
   "execution_count": null,
   "id": "79f44145-a6e7-494e-bcf0-0a750ed60881",
   "metadata": {},
   "outputs": [],
   "source": []
  }
 ],
 "metadata": {
  "kernelspec": {
   "display_name": "Python 3 (ipykernel)",
   "language": "python",
   "name": "python3"
  },
  "language_info": {
   "codemirror_mode": {
    "name": "ipython",
    "version": 3
   },
   "file_extension": ".py",
   "mimetype": "text/x-python",
   "name": "python",
   "nbconvert_exporter": "python",
   "pygments_lexer": "ipython3",
   "version": "3.9.7"
  }
 },
 "nbformat": 4,
 "nbformat_minor": 5
}
